{
 "cells": [
  {
   "cell_type": "markdown",
   "id": "1d52a5d0",
   "metadata": {},
   "source": [
    "### Q1"
   ]
  },
  {
   "cell_type": "code",
   "execution_count": 5,
   "id": "f6e8c468",
   "metadata": {},
   "outputs": [],
   "source": [
    "def odd_number(a,b):\n",
    "    l=[]\n",
    "    for i in range(a,b+1):\n",
    "        if (i%2)!=0:\n",
    "            l.append(i)\n",
    "    print(l)"
   ]
  },
  {
   "cell_type": "code",
   "execution_count": 6,
   "id": "a30e1089",
   "metadata": {},
   "outputs": [
    {
     "name": "stdout",
     "output_type": "stream",
     "text": [
      "[1, 3, 5, 7, 9, 11, 13, 15, 17, 19, 21, 23, 25]\n"
     ]
    }
   ],
   "source": [
    "odd_number(1,25)"
   ]
  },
  {
   "cell_type": "markdown",
   "id": "8c3eecae",
   "metadata": {},
   "source": [
    "### Q2"
   ]
  },
  {
   "cell_type": "code",
   "execution_count": null,
   "id": "41db2949",
   "metadata": {},
   "outputs": [],
   "source": [
    "#*args and **kwargs are used in some functions to allow passing a variable number of arguments to the function. This can be useful when we don’t know in advance how many arguments the function will receive."
   ]
  },
  {
   "cell_type": "code",
   "execution_count": 3,
   "id": "790c81a5",
   "metadata": {},
   "outputs": [
    {
     "data": {
      "text/plain": [
       "36"
      ]
     },
     "execution_count": 3,
     "metadata": {},
     "output_type": "execute_result"
    }
   ],
   "source": [
    "def sum_all(*args):\n",
    "    total=0\n",
    "    for num in args:\n",
    "        total+=num\n",
    "    return total\n",
    "sum_all(12,2,4,5,6,7)"
   ]
  },
  {
   "cell_type": "code",
   "execution_count": 22,
   "id": "650ea285",
   "metadata": {},
   "outputs": [
    {
     "name": "stdout",
     "output_type": "stream",
     "text": [
      "Hello, David!\n",
      "Hello, Yash!\n",
      "Hello, Pratik!\n"
     ]
    }
   ],
   "source": [
    "def greet_all(**kwargs):\n",
    "    for key,value in kwargs.items():\n",
    "        print(f\"Hello, {value}!\")\n",
    "greet_all(name=\"David\", name2='Yash',name3=\"Pratik\")"
   ]
  },
  {
   "cell_type": "markdown",
   "id": "665b7d9d",
   "metadata": {},
   "source": [
    "### Q3"
   ]
  },
  {
   "cell_type": "code",
   "execution_count": 23,
   "id": "d30b587d",
   "metadata": {},
   "outputs": [],
   "source": [
    "#An iterator in python is an object that can be iterated upon, meaning that you can traverse through all the\n",
    "#values of an iteerable object, such as a list, tuple, dictionary and a set.\n",
    "#An iterator implements the iterator protocol, which consists of two methods : iter() and next()."
   ]
  },
  {
   "cell_type": "code",
   "execution_count": 26,
   "id": "ef740662",
   "metadata": {},
   "outputs": [
    {
     "name": "stdout",
     "output_type": "stream",
     "text": [
      "2\n",
      "4\n",
      "6\n",
      "8\n",
      "10\n"
     ]
    }
   ],
   "source": [
    "list= [2, 4, 6, 8, 10, 12, 14,16, 18, 20]\n",
    "a=iter(list)\n",
    "print(next(a))\n",
    "print(next(a))\n",
    "print(next(a))\n",
    "print(next(a))\n",
    "print(next(a))"
   ]
  },
  {
   "cell_type": "markdown",
   "id": "0a07c6d4",
   "metadata": {},
   "source": [
    "### Q4\n"
   ]
  },
  {
   "cell_type": "code",
   "execution_count": 8,
   "id": "dbb145f8",
   "metadata": {},
   "outputs": [],
   "source": [
    "#Generator function are used to print output one at a time. \n",
    "#In normal function the output is print at once.\n",
    "#Yeild keyword is used to create a generator function."
   ]
  },
  {
   "cell_type": "code",
   "execution_count": 17,
   "id": "81a4f0c7",
   "metadata": {},
   "outputs": [],
   "source": [
    "#Example -\n",
    "def fibonaci(n):\n",
    "    a,b=0,1\n",
    "    for i in range(n):\n",
    "        yield a\n",
    "        a,b=b,a+b\n",
    "        \n",
    "    "
   ]
  },
  {
   "cell_type": "code",
   "execution_count": 18,
   "id": "23f0bd42",
   "metadata": {},
   "outputs": [],
   "source": [
    "a=fibonaci(10)"
   ]
  },
  {
   "cell_type": "code",
   "execution_count": 19,
   "id": "b8f3c55b",
   "metadata": {},
   "outputs": [
    {
     "name": "stdout",
     "output_type": "stream",
     "text": [
      "0\n",
      "1\n",
      "1\n",
      "2\n",
      "3\n",
      "5\n",
      "8\n",
      "13\n",
      "21\n",
      "34\n"
     ]
    }
   ],
   "source": [
    "for i in a:\n",
    "    print(i)"
   ]
  },
  {
   "cell_type": "markdown",
   "id": "24ef33c3",
   "metadata": {},
   "source": [
    "### Q5\n"
   ]
  },
  {
   "cell_type": "code",
   "execution_count": 10,
   "id": "0e0f544d",
   "metadata": {},
   "outputs": [],
   "source": [
    "def PrimeNumber(n):\n",
    "    for i in range(n):\n",
    "        if i>1:\n",
    "            for j in range(2,i):\n",
    "                if i%j==0:\n",
    "                    break\n",
    "            else:\n",
    "                yield i"
   ]
  },
  {
   "cell_type": "code",
   "execution_count": 14,
   "id": "d76c5869",
   "metadata": {},
   "outputs": [
    {
     "name": "stdout",
     "output_type": "stream",
     "text": [
      "2\n",
      "3\n",
      "5\n",
      "7\n",
      "11\n",
      "13\n",
      "17\n",
      "19\n",
      "23\n",
      "29\n",
      "31\n",
      "37\n",
      "41\n",
      "43\n",
      "47\n",
      "53\n",
      "59\n",
      "61\n",
      "67\n",
      "71\n"
     ]
    }
   ],
   "source": [
    "p=PrimeNumber(1000)\n",
    "for i in range(20):\n",
    "    print(next(p))"
   ]
  },
  {
   "cell_type": "code",
   "execution_count": null,
   "id": "655f5398",
   "metadata": {},
   "outputs": [],
   "source": []
  },
  {
   "cell_type": "markdown",
   "id": "5ebfb709",
   "metadata": {},
   "source": [
    "### Q6"
   ]
  },
  {
   "cell_type": "code",
   "execution_count": 36,
   "id": "cb140104",
   "metadata": {},
   "outputs": [],
   "source": [
    "def fibonacci(n):\n",
    "    a,b,=0,1\n",
    "    i=0\n",
    "    while n>i:\n",
    "        yield a\n",
    "        a,b=b,a+b\n",
    "        i=i+1\n",
    "        \n",
    "        "
   ]
  },
  {
   "cell_type": "code",
   "execution_count": 40,
   "id": "63707d60",
   "metadata": {},
   "outputs": [
    {
     "name": "stdout",
     "output_type": "stream",
     "text": [
      "0\n",
      "1\n",
      "1\n",
      "2\n",
      "3\n",
      "5\n",
      "8\n",
      "13\n",
      "21\n",
      "34\n"
     ]
    }
   ],
   "source": [
    "f=fibonacci(10)\n",
    "for i in f:\n",
    "    print(i)"
   ]
  },
  {
   "cell_type": "markdown",
   "id": "25d97a4c",
   "metadata": {},
   "source": [
    "### Q7"
   ]
  },
  {
   "cell_type": "code",
   "execution_count": 45,
   "id": "acc7be06",
   "metadata": {},
   "outputs": [
    {
     "name": "stdout",
     "output_type": "stream",
     "text": [
      "['p', 'w', 's', 'k', 'i', 'l', 'l', 's']\n"
     ]
    }
   ],
   "source": [
    "s='pwskills'\n",
    "n=[]\n",
    "for i in s:\n",
    "   n.append(i)\n",
    "print(l)"
   ]
  },
  {
   "cell_type": "markdown",
   "id": "21b6289b",
   "metadata": {},
   "source": [
    "### Q8"
   ]
  },
  {
   "cell_type": "code",
   "execution_count": 6,
   "id": "bc451c1f",
   "metadata": {},
   "outputs": [],
   "source": [
    "def checkPalindrome(original):\n",
    "    reverseNum = 0\n",
    "    tempOriginal = original\n",
    "\n",
    "    while (tempOriginal > 0):\n",
    "        lastDigit = tempOriginal % 10\n",
    "        reverseNum = reverseNum * 10 + lastDigit\n",
    "        tempOriginal = tempOriginal / 10\n",
    "\n",
    "    if (original == reverseNum):\n",
    "        return \"Palindrome Number.\"\n",
    "    else:\n",
    "        return \"Not Palindrome Number.\""
   ]
  },
  {
   "cell_type": "code",
   "execution_count": 7,
   "id": "212f93ba",
   "metadata": {},
   "outputs": [
    {
     "data": {
      "text/plain": [
       "'Not Palindrome Number.'"
      ]
     },
     "execution_count": 7,
     "metadata": {},
     "output_type": "execute_result"
    }
   ],
   "source": [
    "checkPalindrome(122)"
   ]
  },
  {
   "cell_type": "markdown",
   "id": "f8afeafc",
   "metadata": {},
   "source": [
    "### Q9"
   ]
  },
  {
   "cell_type": "code",
   "execution_count": 42,
   "id": "2fd2cb88",
   "metadata": {},
   "outputs": [
    {
     "name": "stdout",
     "output_type": "stream",
     "text": [
      "[1, 2, 3, 4, 5, 6, 7, 8, 9, 10, 11, 12, 13, 14, 15, 16, 17, 18, 19, 20, 21, 22, 23, 24, 25, 26, 27, 28, 29, 30, 31, 32, 33, 34, 35, 36, 37, 38, 39, 40, 41, 42, 43, 44, 45, 46, 47, 48, 49, 50, 51, 52, 53, 54, 55, 56, 57, 58, 59, 60, 61, 62, 63, 64, 65, 66, 67, 68, 69, 70, 71, 72, 73, 74, 75, 76, 77, 78, 79, 80, 81, 82, 83, 84, 85, 86, 87, 88, 89, 90, 91, 92, 93, 94, 95, 96, 97, 98, 99, 100]\n"
     ]
    }
   ],
   "source": [
    "l=[]\n",
    "for i in range(1,101):\n",
    "    l.append(i)\n",
    "print(l)"
   ]
  },
  {
   "cell_type": "code",
   "execution_count": 43,
   "id": "2662c192",
   "metadata": {},
   "outputs": [
    {
     "name": "stdout",
     "output_type": "stream",
     "text": [
      "[1, 3, 5, 7, 9, 11, 13, 15, 17, 19, 21, 23, 25, 27, 29, 31, 33, 35, 37, 39, 41, 43, 45, 47, 49, 51, 53, 55, 57, 59, 61, 63, 65, 67, 69, 71, 73, 75, 77, 79, 81, 83, 85, 87, 89, 91, 93, 95, 97, 99]\n"
     ]
    }
   ],
   "source": [
    "l1=[]\n",
    "for i in l:\n",
    "    if (i%2)!=0:\n",
    "        l1.append(i)\n",
    "print(l1)"
   ]
  },
  {
   "cell_type": "code",
   "execution_count": null,
   "id": "50b37c4b",
   "metadata": {},
   "outputs": [],
   "source": []
  },
  {
   "cell_type": "code",
   "execution_count": null,
   "id": "f13e15ee",
   "metadata": {},
   "outputs": [],
   "source": []
  },
  {
   "cell_type": "code",
   "execution_count": null,
   "id": "7f48de58",
   "metadata": {},
   "outputs": [],
   "source": []
  },
  {
   "cell_type": "code",
   "execution_count": null,
   "id": "2a9f2b6d",
   "metadata": {},
   "outputs": [],
   "source": []
  },
  {
   "cell_type": "code",
   "execution_count": null,
   "id": "48af33e2",
   "metadata": {},
   "outputs": [],
   "source": []
  },
  {
   "cell_type": "code",
   "execution_count": null,
   "id": "d39971f8",
   "metadata": {},
   "outputs": [],
   "source": []
  }
 ],
 "metadata": {
  "kernelspec": {
   "display_name": "Python 3 (ipykernel)",
   "language": "python",
   "name": "python3"
  },
  "language_info": {
   "codemirror_mode": {
    "name": "ipython",
    "version": 3
   },
   "file_extension": ".py",
   "mimetype": "text/x-python",
   "name": "python",
   "nbconvert_exporter": "python",
   "pygments_lexer": "ipython3",
   "version": "3.9.13"
  }
 },
 "nbformat": 4,
 "nbformat_minor": 5
}
